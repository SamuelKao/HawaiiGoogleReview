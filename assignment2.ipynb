{
 "cells": [
  {
   "cell_type": "code",
   "execution_count": 30,
   "metadata": {},
   "outputs": [],
   "source": [
    "import gzip\n",
    "import math\n",
    "import numpy\n",
    "import random\n",
    "import pandas as pd\n",
    "import sklearn\n",
    "import string\n",
    "from collections import defaultdict\n",
    "from nltk.stem.porter import *\n",
    "from sklearn import linear_model\n",
    "from gensim.models import Word2Vec\n",
    "import dateutil\n",
    "from scipy.sparse import lil_matrix # To build sparse feature matrices, if you like\n"
   ]
  },
  {
   "cell_type": "code",
   "execution_count": 9,
   "metadata": {},
   "outputs": [
    {
     "name": "stdout",
     "output_type": "stream",
     "text": [
      "Loaded 1504347 reviews.\n"
     ]
    }
   ],
   "source": [
    "import requests\n",
    "import gzip\n",
    "import json\n",
    "\n",
    "# URL of the gzipped JSON file\n",
    "url = \"https://datarepo.eng.ucsd.edu/mcauley_group/gdrive/googlelocal/review-Hawaii_10.json.gz\"\n",
    "\n",
    "# Define a local file to save the gzipped content\n",
    "local_file = \"review-Hawaii.json.gz\"\n",
    "\n",
    "# Download the file in chunks\n",
    "with requests.get(url, stream=True) as response:\n",
    "    response.raise_for_status()  # Raise an error if the download fails\n",
    "    with open(local_file, \"wb\") as f:\n",
    "        for chunk in response.iter_content(chunk_size=8192):  # Adjust chunk size as needed\n",
    "            f.write(chunk)\n",
    "\n",
    "# Decompress and load the JSON data\n",
    "dataset_review_Hawaii = []\n",
    "with gzip.open(local_file, \"rt\", encoding=\"utf-8\") as f:  # \"rt\" mode for text\n",
    "    for line in f:\n",
    "        data = json.loads(line)  # Parse each JSON object\n",
    "        dataset_review_Hawaii.append(data)\n",
    "\n",
    "# Output the length of the dataset to verify\n",
    "print(f\"Loaded {len(dataset_review_Hawaii)} reviews.\")\n"
   ]
  },
  {
   "cell_type": "code",
   "execution_count": null,
   "metadata": {},
   "outputs": [],
   "source": [
    "review_Hawaii_clean = [i for i in dataset_review_Hawaii if i['text'] != None]\n",
    "review_Hawaii_clean = pd.DataFrame(review_Hawaii_clean)\n",
    "review_Hawaii_clean_eng = review_Hawaii_clean[review_Hawaii_clean['text'].str.match(r'^[A-Za-z0-9]+')]\n",
    "review_Hawaii_clean_eng.head()"
   ]
  },
  {
   "cell_type": "code",
   "execution_count": 70,
   "metadata": {},
   "outputs": [
    {
     "data": {
      "text/html": [
       "<div>\n",
       "<style scoped>\n",
       "    .dataframe tbody tr th:only-of-type {\n",
       "        vertical-align: middle;\n",
       "    }\n",
       "\n",
       "    .dataframe tbody tr th {\n",
       "        vertical-align: top;\n",
       "    }\n",
       "\n",
       "    .dataframe thead th {\n",
       "        text-align: right;\n",
       "    }\n",
       "</style>\n",
       "<table border=\"1\" class=\"dataframe\">\n",
       "  <thead>\n",
       "    <tr style=\"text-align: right;\">\n",
       "      <th></th>\n",
       "      <th>user_id</th>\n",
       "      <th>gmap_id</th>\n",
       "      <th>text</th>\n",
       "      <th>rating</th>\n",
       "    </tr>\n",
       "  </thead>\n",
       "  <tbody>\n",
       "    <tr>\n",
       "      <th>0</th>\n",
       "      <td>113965417079576625433</td>\n",
       "      <td>0x7c00159b5b1b1d25:0x8d2d85d4a758290e</td>\n",
       "      <td>Great new upgrade</td>\n",
       "      <td>5</td>\n",
       "    </tr>\n",
       "    <tr>\n",
       "      <th>1</th>\n",
       "      <td>109623613356773809039</td>\n",
       "      <td>0x7c006de89f2d86e1:0x23d998532e9317a6</td>\n",
       "      <td>So pleased to find Dr. Mike!  He’s the real de...</td>\n",
       "      <td>5</td>\n",
       "    </tr>\n",
       "    <tr>\n",
       "      <th>2</th>\n",
       "      <td>105786704025048642479</td>\n",
       "      <td>0x7c006de89f2d86e1:0x23d998532e9317a6</td>\n",
       "      <td>The doctor is extremely creepy. First of all, ...</td>\n",
       "      <td>1</td>\n",
       "    </tr>\n",
       "    <tr>\n",
       "      <th>3</th>\n",
       "      <td>117458106933327014012</td>\n",
       "      <td>0x7c006de89f2d86e1:0x23d998532e9317a6</td>\n",
       "      <td>As a former R.N. was looking for big shoes to ...</td>\n",
       "      <td>5</td>\n",
       "    </tr>\n",
       "    <tr>\n",
       "      <th>4</th>\n",
       "      <td>108985244966294061730</td>\n",
       "      <td>0x7c006de89f2d86e1:0x23d998532e9317a6</td>\n",
       "      <td>Great place! Doctor helped my body pains.</td>\n",
       "      <td>5</td>\n",
       "    </tr>\n",
       "    <tr>\n",
       "      <th>...</th>\n",
       "      <td>...</td>\n",
       "      <td>...</td>\n",
       "      <td>...</td>\n",
       "      <td>...</td>\n",
       "    </tr>\n",
       "    <tr>\n",
       "      <th>98</th>\n",
       "      <td>113954467402806825801</td>\n",
       "      <td>0x795406d3728f9b1b:0x236996c8f711cda8</td>\n",
       "      <td>Great place</td>\n",
       "      <td>3</td>\n",
       "    </tr>\n",
       "    <tr>\n",
       "      <th>99</th>\n",
       "      <td>117257970158561722599</td>\n",
       "      <td>0x795406d3728f9b1b:0x236996c8f711cda8</td>\n",
       "      <td>Incredible</td>\n",
       "      <td>5</td>\n",
       "    </tr>\n",
       "    <tr>\n",
       "      <th>100</th>\n",
       "      <td>117345116162370485994</td>\n",
       "      <td>0x7c0015d64cd48c6f:0x4cac932764bd2fac</td>\n",
       "      <td>This Kitty Cafe was MEOWzing! There were so ma...</td>\n",
       "      <td>5</td>\n",
       "    </tr>\n",
       "    <tr>\n",
       "      <th>101</th>\n",
       "      <td>118397406534237711570</td>\n",
       "      <td>0x7c0015d64cd48c6f:0x4cac932764bd2fac</td>\n",
       "      <td>Friendly owners, fun thematic decor, and lots ...</td>\n",
       "      <td>5</td>\n",
       "    </tr>\n",
       "    <tr>\n",
       "      <th>102</th>\n",
       "      <td>112780676652914129268</td>\n",
       "      <td>0x7c0015d64cd48c6f:0x4cac932764bd2fac</td>\n",
       "      <td>Our girls had such a great time they keep talk...</td>\n",
       "      <td>5</td>\n",
       "    </tr>\n",
       "  </tbody>\n",
       "</table>\n",
       "<p>100 rows × 4 columns</p>\n",
       "</div>"
      ],
      "text/plain": [
       "                   user_id                                gmap_id  \\\n",
       "0    113965417079576625433  0x7c00159b5b1b1d25:0x8d2d85d4a758290e   \n",
       "1    109623613356773809039  0x7c006de89f2d86e1:0x23d998532e9317a6   \n",
       "2    105786704025048642479  0x7c006de89f2d86e1:0x23d998532e9317a6   \n",
       "3    117458106933327014012  0x7c006de89f2d86e1:0x23d998532e9317a6   \n",
       "4    108985244966294061730  0x7c006de89f2d86e1:0x23d998532e9317a6   \n",
       "..                     ...                                    ...   \n",
       "98   113954467402806825801  0x795406d3728f9b1b:0x236996c8f711cda8   \n",
       "99   117257970158561722599  0x795406d3728f9b1b:0x236996c8f711cda8   \n",
       "100  117345116162370485994  0x7c0015d64cd48c6f:0x4cac932764bd2fac   \n",
       "101  118397406534237711570  0x7c0015d64cd48c6f:0x4cac932764bd2fac   \n",
       "102  112780676652914129268  0x7c0015d64cd48c6f:0x4cac932764bd2fac   \n",
       "\n",
       "                                                  text  rating  \n",
       "0                                    Great new upgrade       5  \n",
       "1    So pleased to find Dr. Mike!  He’s the real de...       5  \n",
       "2    The doctor is extremely creepy. First of all, ...       1  \n",
       "3    As a former R.N. was looking for big shoes to ...       5  \n",
       "4            Great place! Doctor helped my body pains.       5  \n",
       "..                                                 ...     ...  \n",
       "98                                         Great place       3  \n",
       "99                                          Incredible       5  \n",
       "100  This Kitty Cafe was MEOWzing! There were so ma...       5  \n",
       "101  Friendly owners, fun thematic decor, and lots ...       5  \n",
       "102  Our girls had such a great time they keep talk...       5  \n",
       "\n",
       "[100 rows x 4 columns]"
      ]
     },
     "execution_count": 70,
     "metadata": {},
     "output_type": "execute_result"
    }
   ],
   "source": [
    "review_Hawaii_feature = review_Hawaii_clean_eng[['user_id', 'gmap_id', 'text', 'rating']]\n",
    "review_Hawaii_feature.head(100)"
   ]
  },
  {
   "cell_type": "markdown",
   "metadata": {},
   "source": [
    "### 1. sim - user_id v.s. gmap_id predict rating"
   ]
  },
  {
   "cell_type": "code",
   "execution_count": null,
   "metadata": {},
   "outputs": [],
   "source": [
    "# Sim"
   ]
  },
  {
   "cell_type": "markdown",
   "metadata": {},
   "source": [
    "### 2. text mining - text predict rating"
   ]
  },
  {
   "cell_type": "code",
   "execution_count": null,
   "metadata": {},
   "outputs": [],
   "source": [
    "# Text Mining"
   ]
  }
 ],
 "metadata": {
  "kernelspec": {
   "display_name": "base",
   "language": "python",
   "name": "python3"
  },
  "language_info": {
   "codemirror_mode": {
    "name": "ipython",
    "version": 3
   },
   "file_extension": ".py",
   "mimetype": "text/x-python",
   "name": "python",
   "nbconvert_exporter": "python",
   "pygments_lexer": "ipython3",
   "version": "3.11.7"
  }
 },
 "nbformat": 4,
 "nbformat_minor": 2
}
